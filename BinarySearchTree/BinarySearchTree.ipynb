{
 "cells": [
  {
   "cell_type": "markdown",
   "metadata": {},
   "source": [
    "# Binary Search Tree"
   ]
  },
  {
   "cell_type": "markdown",
   "metadata": {},
   "source": [
    "### Overview\n",
    "\n",
    "This notebook showcases my implementation of a Binary Search Tree! \n",
    "\n",
    "For this I use a very simple csv that contains the top 25 highest grossing movies world wide as of june 2022!\n",
    "\n",
    "For a closer look at the Code check out 'bst.py'!\n",
    "\n",
    "---\n",
    "\n",
    "#### Definition of a Binary Serach Tree\n",
    "- A Binary Search Tree has a root\n",
    "\n",
    "- Each node can have up to 2 children\n",
    "\n",
    "- Each node holds a key that is\n",
    "\n",
    "- less than any key in its right subtree\n",
    "\n",
    "- greater than any key in its left subtree\n",
    "\n",
    "---\n",
    "\n",
    "#### Features for the time being are:\n",
    "\n",
    "**Main features**\n",
    "- Insertion: Inserts a node into the BST\n",
    "\n",
    "- Search: Finds and returns a node in the BST\n",
    "\n",
    "- Deletion: Deletes a node from the BST\n",
    "\n",
    "**Additional features**\n",
    "- In-order-traversal: Returns all of the nodes in the BST in an ascending order\n",
    "\n",
    "- Maximum/Minimum: Returns the node with the max/min key\n",
    "\n",
    "- Height: Return the height of the BST (or a subtree)\n",
    "---\n",
    "#### Time complexity\n",
    "\n",
    "**Worst time complexity:** $O(n)$\n",
    "> Worst time complexity occurs when the hight is equal to the amount of nodes in the tree $h = n$. \n",
    "\n",
    "> This essentially means our tree is functioning as a linked-list! (In the worst case: For a node to be inserted, found or deleted the algorithm would have to traverse every node in this 'tree'. This is consideration is especially important when inserting a list of already sorted nodes! A naive method to avoid this is to shuffle the data randomly. More sophisticated solutions are self-balancing trees such as AVL-Trees or R&B Trees.\n",
    "\n",
    "**Average time complexity:** $O(\\log n)$\n",
    "> Average time complexity depends on the height of the tree which is expected to be $h = \\log n$ in the average case.\n",
    "\n",
    "*Notice:* Time complexity depends on the hight of the tree. It is how the hight is bound that determines worst case complexity.\n",
    "\n",
    "---"
   ]
  },
  {
   "cell_type": "markdown",
   "metadata": {},
   "source": [
    "**Sources**\n",
    "- [Wikipedia](https://en.wikipedia.org/wiki/Binary_search_tree#Optimal_binary_search_trees)\n",
    "\n",
    "- [GeeksforGeeks](https://www.geeksforgeeks.org/binary-search-tree-data-structure/?ref=lbp)\n",
    "\n",
    "- [Visualization](https://www.cs.usfca.edu/~galles/visualization/BST.html)"
   ]
  },
  {
   "cell_type": "markdown",
   "metadata": {},
   "source": [
    "### Importing and preparing data"
   ]
  },
  {
   "cell_type": "code",
   "execution_count": 1,
   "metadata": {},
   "outputs": [],
   "source": [
    "# Import the necessary tools\n",
    "from bst import *\n",
    "import pandas as pd\n",
    "import random"
   ]
  },
  {
   "cell_type": "code",
   "execution_count": 2,
   "metadata": {},
   "outputs": [
    {
     "data": {
      "text/html": [
       "<div>\n",
       "<style scoped>\n",
       "    .dataframe tbody tr th:only-of-type {\n",
       "        vertical-align: middle;\n",
       "    }\n",
       "\n",
       "    .dataframe tbody tr th {\n",
       "        vertical-align: top;\n",
       "    }\n",
       "\n",
       "    .dataframe thead th {\n",
       "        text-align: right;\n",
       "    }\n",
       "</style>\n",
       "<table border=\"1\" class=\"dataframe\">\n",
       "  <thead>\n",
       "    <tr style=\"text-align: right;\">\n",
       "      <th></th>\n",
       "      <th>Rank</th>\n",
       "      <th>Title</th>\n",
       "      <th>Release</th>\n",
       "    </tr>\n",
       "  </thead>\n",
       "  <tbody>\n",
       "    <tr>\n",
       "      <th>0</th>\n",
       "      <td>1</td>\n",
       "      <td>Avatar</td>\n",
       "      <td>2009</td>\n",
       "    </tr>\n",
       "    <tr>\n",
       "      <th>1</th>\n",
       "      <td>2</td>\n",
       "      <td>Avengers: Endgame</td>\n",
       "      <td>2019</td>\n",
       "    </tr>\n",
       "    <tr>\n",
       "      <th>2</th>\n",
       "      <td>3</td>\n",
       "      <td>Titanic</td>\n",
       "      <td>1997</td>\n",
       "    </tr>\n",
       "    <tr>\n",
       "      <th>3</th>\n",
       "      <td>4</td>\n",
       "      <td>Star Wars: Episode VII - The Force Awakens</td>\n",
       "      <td>2015</td>\n",
       "    </tr>\n",
       "    <tr>\n",
       "      <th>4</th>\n",
       "      <td>5</td>\n",
       "      <td>Avengers: Infinity War</td>\n",
       "      <td>2018</td>\n",
       "    </tr>\n",
       "  </tbody>\n",
       "</table>\n",
       "</div>"
      ],
      "text/plain": [
       "   Rank                                       Title  Release\n",
       "0     1                                      Avatar     2009\n",
       "1     2                           Avengers: Endgame     2019\n",
       "2     3                                     Titanic     1997\n",
       "3     4  Star Wars: Episode VII - The Force Awakens     2015\n",
       "4     5                      Avengers: Infinity War     2018"
      ]
     },
     "execution_count": 2,
     "metadata": {},
     "output_type": "execute_result"
    }
   ],
   "source": [
    "# Read in data with pandas\n",
    "df = pd.read_csv('example_data.csv', delimiter = ';')\n",
    "\n",
    "# Get an idea what our data looks like\n",
    "df.head()"
   ]
  },
  {
   "cell_type": "code",
   "execution_count": 3,
   "metadata": {},
   "outputs": [],
   "source": [
    "# assign columns\n",
    "rank = df['Rank']\n",
    "title = df['Title']\n",
    "year = df['Release']"
   ]
  },
  {
   "cell_type": "code",
   "execution_count": 4,
   "metadata": {},
   "outputs": [
    {
     "name": "stdout",
     "output_type": "stream",
     "text": [
      "Object with key: 11 and data: Frozen II\n"
     ]
    }
   ],
   "source": [
    "# Create empty list that will contain all the nodes\n",
    "nodes_list = []\n",
    "# Loop on data to create Nodes\n",
    "for i in range(0, len(title)):\n",
    "    # The rank can be used as unique identifier\n",
    "    # The title will be carried as data\n",
    "    node = Node(key = rank[i], data = title[i])\n",
    "    # After creation put node into nodes_list\n",
    "    nodes_list.append(node)\n",
    "\n",
    "# Get a look at a node\n",
    "print(nodes_list[10])"
   ]
  },
  {
   "cell_type": "code",
   "execution_count": 5,
   "metadata": {},
   "outputs": [],
   "source": [
    "# Initialize our 'movie_tree'\n",
    "movie_tree = BinarySearchTree()"
   ]
  },
  {
   "cell_type": "markdown",
   "metadata": {},
   "source": [
    "## Insertion\n",
    "\n",
    "In order to preserve the properties of a BST each node is inserted as a leaf. In my case the insertion is carried out iteratively."
   ]
  },
  {
   "cell_type": "code",
   "execution_count": 6,
   "metadata": {},
   "outputs": [],
   "source": [
    "# Shuffel the list so our tree doesn't become a linked list (sorted data will do that to our simple bst)\n",
    "random.shuffle(nodes_list)\n",
    "\n",
    "# Insert all of the nodes in our nodes_list into our movie_tree\n",
    "for node in nodes_list:\n",
    "    movie_tree.bst_insert(node)"
   ]
  },
  {
   "cell_type": "code",
   "execution_count": 7,
   "metadata": {},
   "outputs": [
    {
     "name": "stdout",
     "output_type": "stream",
     "text": [
      "        1: Avatar\n",
      "    2: Avengers: Endgame\n",
      "            3: Titanic\n",
      "        4: Star Wars: Episode VII - The Force Awakens\n",
      "5: Avengers: Infinity War\n",
      "                6: Spider-Man: No Way Home\n",
      "            7: Jurassic World\n",
      "                8: The Lion King\n",
      "        9: Marvel's The Avengers\n",
      "                    10: Furious 7\n",
      "                            11: Frozen II\n",
      "                        12: Avengers: Age of Ultron\n",
      "                13: Black Panther\n",
      "                    14: Harry Potter and the Deathly Hallows\n",
      "                            15: Star Wars: Episode VIII - The Last Jedi\n",
      "                        16: Jurassic World: Fallen Kingdom\n",
      "            17: Frozen\n",
      "                        18: Beauty and the Beast\n",
      "                    19: Incredibles 2\n",
      "                        20: The Fate of the Furious\n",
      "                21: Iron Man 3\n",
      "    22: Minions\n",
      "            23: Captain America\n",
      "        24: Aquaman\n",
      "            25: The Lord of the Rings: The Return of the King\n"
     ]
    }
   ],
   "source": [
    "# Get a look at our movie_tree\n",
    "movie_tree.visualize()"
   ]
  },
  {
   "cell_type": "markdown",
   "metadata": {},
   "source": [
    "## Search\n",
    "\n",
    "Search takes a given key and compares every node on the path a node with that key would take to be inserted!"
   ]
  },
  {
   "cell_type": "code",
   "execution_count": 8,
   "metadata": {},
   "outputs": [
    {
     "name": "stdout",
     "output_type": "stream",
     "text": [
      "Object with key: 16 and data: Jurassic World: Fallen Kingdom\n",
      "Object with key: 14 and data: Harry Potter and the Deathly Hallows\n"
     ]
    }
   ],
   "source": [
    "# E.g. we want to find the node that stores the 16th placed movie!\n",
    "my_node = movie_tree.bst_search_iter(16)\n",
    "# Let's see our result\n",
    "print(my_node)\n",
    "# And what about its parent node?\n",
    "print(my_node.parent)"
   ]
  },
  {
   "cell_type": "markdown",
   "metadata": {},
   "source": [
    "## Deletion\n",
    "\n",
    "Deletion is a BST is a bit more tricky - we destinct between 3 cases!\n",
    "\n",
    "The node to be removed is:\n",
    "\n",
    "1. A leaf-node\n",
    "2. A node with only one child\n",
    "3. A node with 2 children\n",
    "\n",
    "For cases 1 & 2 the procedure is kind of simple:\n",
    "- Remove the node and if there is a single child 'pull it up' where its parent was.\n",
    "\n",
    "For case 3 we have to get a little bit more creative\n",
    "- Find a node with 1 or no children and replace node to be removed with it.\n",
    "\n",
    "*See code in 'bst.py'*"
   ]
  },
  {
   "cell_type": "code",
   "execution_count": 9,
   "metadata": {},
   "outputs": [
    {
     "name": "stdout",
     "output_type": "stream",
     "text": [
      "        1: Avatar\n",
      "    2: Avengers: Endgame\n",
      "            3: Titanic\n",
      "        4: Star Wars: Episode VII - The Force Awakens\n",
      "5: Avengers: Infinity War\n",
      "                6: Spider-Man: No Way Home\n",
      "            7: Jurassic World\n",
      "                8: The Lion King\n",
      "        9: Marvel's The Avengers\n",
      "                    10: Furious 7\n",
      "                        12: Avengers: Age of Ultron\n",
      "                13: Black Panther\n",
      "                    14: Harry Potter and the Deathly Hallows\n",
      "                            15: Star Wars: Episode VIII - The Last Jedi\n",
      "                        16: Jurassic World: Fallen Kingdom\n",
      "            17: Frozen\n",
      "                        18: Beauty and the Beast\n",
      "                    19: Incredibles 2\n",
      "                        20: The Fate of the Furious\n",
      "                21: Iron Man 3\n",
      "    22: Minions\n",
      "            23: Captain America\n",
      "        24: Aquaman\n",
      "            25: The Lord of the Rings: The Return of the King\n"
     ]
    }
   ],
   "source": [
    "# E.g. we want to remove node 11\n",
    "node_11 = movie_tree.bst_search_iter(11)\n",
    "movie_tree.bst_delete(node_11)\n",
    "# Let's take a look and see if it worked\n",
    "movie_tree.visualize()"
   ]
  },
  {
   "cell_type": "markdown",
   "metadata": {},
   "source": [
    "Yay, I never liked Frozen II anyways.\n",
    "Let's pretend a better movie achieved its ranking!"
   ]
  },
  {
   "cell_type": "markdown",
   "metadata": {},
   "source": [
    "## In-order-traversal\n",
    "\n",
    "In-order tree walk: Nodes from the left subtree get visited first, followed by the root node and right subtree"
   ]
  },
  {
   "cell_type": "code",
   "execution_count": 10,
   "metadata": {},
   "outputs": [
    {
     "name": "stdout",
     "output_type": "stream",
     "text": [
      "Object with key: 1 and data: Avatar\n",
      "Object with key: 2 and data: Avengers: Endgame\n",
      "Object with key: 3 and data: Titanic\n",
      "Object with key: 4 and data: Star Wars: Episode VII - The Force Awakens\n",
      "Object with key: 5 and data: Avengers: Infinity War\n",
      "Object with key: 6 and data: Spider-Man: No Way Home\n",
      "Object with key: 7 and data: Jurassic World\n",
      "Object with key: 8 and data: The Lion King\n",
      "Object with key: 9 and data: Marvel's The Avengers\n",
      "Object with key: 10 and data: Furious 7\n",
      "Object with key: 11 and data: Atlantis: The Lost Empire\n",
      "Object with key: 12 and data: Avengers: Age of Ultron\n",
      "Object with key: 13 and data: Black Panther\n",
      "Object with key: 14 and data: Harry Potter and the Deathly Hallows\n",
      "Object with key: 15 and data: Star Wars: Episode VIII - The Last Jedi\n",
      "Object with key: 16 and data: Jurassic World: Fallen Kingdom\n",
      "Object with key: 17 and data: Frozen\n",
      "Object with key: 18 and data: Beauty and the Beast\n",
      "Object with key: 19 and data: Incredibles 2\n",
      "Object with key: 20 and data: The Fate of the Furious\n",
      "Object with key: 21 and data: Iron Man 3\n",
      "Object with key: 22 and data: Minions\n",
      "Object with key: 23 and data: Captain America\n",
      "Object with key: 24 and data: Aquaman\n",
      "Object with key: 25 and data: The Lord of the Rings: The Return of the King\n"
     ]
    }
   ],
   "source": [
    "# Create new_node\n",
    "new_node_11 = Node(11, data = 'Atlantis: The Lost Empire')\n",
    "# Insert new_node\n",
    "movie_tree.bst_insert(new_node_11)\n",
    "# Let's take a look at our new list with the in-order-traversal method\n",
    "movie_tree.in_order_traversal(movie_tree.root)"
   ]
  },
  {
   "cell_type": "markdown",
   "metadata": {},
   "source": [
    "## Maximum & Minimum\n",
    "The right-most node of a BinarySearchTree is the node with the largest tree.\n",
    "\n",
    "The left-most node of a BinarySearchTree is the node with the smallest tree."
   ]
  },
  {
   "cell_type": "code",
   "execution_count": 11,
   "metadata": {},
   "outputs": [
    {
     "name": "stdout",
     "output_type": "stream",
     "text": [
      "Object with key: 1 and data: Avatar\n",
      "Object with key: 25 and data: The Lord of the Rings: The Return of the King\n"
     ]
    }
   ],
   "source": [
    "# Let's find our highest ranking movie\n",
    "first_rank_movie = movie_tree.bst_minimum()\n",
    "print(first_rank_movie)\n",
    "# And our lowest ranking movie\n",
    "last_rank_movie = movie_tree.bst_maximum()\n",
    "print(last_rank_movie)"
   ]
  },
  {
   "cell_type": "markdown",
   "metadata": {},
   "source": [
    "## Height\n",
    "Since the height of a tree determines the worst case complexity of operations it is important to keep track of it!\n",
    "\n",
    "Our height-method takes a node as starting point. This allows to check out the height of sub-trees aswell."
   ]
  },
  {
   "cell_type": "code",
   "execution_count": 12,
   "metadata": {},
   "outputs": [
    {
     "name": "stdout",
     "output_type": "stream",
     "text": [
      "8\n"
     ]
    }
   ],
   "source": [
    "# Let's retrieve the hight of the entire tree\n",
    "my_root = movie_tree.root\n",
    "height = movie_tree.bst_height(my_root)\n",
    "print(height)"
   ]
  },
  {
   "cell_type": "markdown",
   "metadata": {},
   "source": [
    "## Count"
   ]
  },
  {
   "cell_type": "code",
   "execution_count": 25,
   "metadata": {},
   "outputs": [
    {
     "name": "stdout",
     "output_type": "stream",
     "text": [
      "25\n",
      "4.643856189774724\n"
     ]
    }
   ],
   "source": [
    "# Let's see what the expected value of our hight is\n",
    "import math\n",
    "# amount of nodes we earlier inserted\n",
    "n = movie_tree.bst_count(my_root)\n",
    "print(n)\n",
    "# expected is the binary log of n\n",
    "expected_hight = math.log2(n)\n",
    "print(expected_hight)"
   ]
  },
  {
   "cell_type": "markdown",
   "metadata": {},
   "source": [
    "There is definitely room for improvement!\n",
    "\n",
    "This subject will be further discussed in my next ipynb where I plan to implement a balanced BST!"
   ]
  }
 ],
 "metadata": {
  "interpreter": {
   "hash": "aee8b7b246df8f9039afb4144a1f6fd8d2ca17a180786b69acc140d282b71a49"
  },
  "kernelspec": {
   "display_name": "Python 3.10.2 64-bit",
   "language": "python",
   "name": "python3"
  },
  "language_info": {
   "codemirror_mode": {
    "name": "ipython",
    "version": 3
   },
   "file_extension": ".py",
   "mimetype": "text/x-python",
   "name": "python",
   "nbconvert_exporter": "python",
   "pygments_lexer": "ipython3",
   "version": "3.10.2"
  },
  "orig_nbformat": 4
 },
 "nbformat": 4,
 "nbformat_minor": 2
}
