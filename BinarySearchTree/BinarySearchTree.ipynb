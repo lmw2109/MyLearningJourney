{
 "cells": [
  {
   "cell_type": "markdown",
   "metadata": {},
   "source": [
    "# Binary Search Tree"
   ]
  },
  {
   "cell_type": "markdown",
   "metadata": {},
   "source": [
    "**Sources**\n",
    "- [Wikipedia](https://en.wikipedia.org/wiki/Binary_search_tree#Optimal_binary_search_trees)\n",
    "\n",
    "- [GeeksforGeeks](https://www.geeksforgeeks.org/binary-search-tree-data-structure/?ref=lbp)\n",
    "\n",
    "- [Visualization](https://www.cs.usfca.edu/~galles/visualization/BST.html)"
   ]
  },
  {
   "cell_type": "code",
   "execution_count": 1,
   "metadata": {},
   "outputs": [],
   "source": [
    "from bst import *\n",
    "import pandas as pd\n",
    "import random"
   ]
  },
  {
   "cell_type": "code",
   "execution_count": 2,
   "metadata": {},
   "outputs": [],
   "source": [
    "df = pd.read_csv('example_data.csv', delimiter = ';')\n",
    "\n",
    "rank = df['Rank']\n",
    "title = df['Title']\n",
    "year = df['Release']"
   ]
  },
  {
   "cell_type": "code",
   "execution_count": 3,
   "metadata": {},
   "outputs": [],
   "source": [
    "nodes_list = []\n",
    "for i in range(0, len(title)):\n",
    "    node = Node(key = rank[i], data = title[i])\n",
    "    nodes_list.append(node)\n",
    "\n",
    "random.shuffle(nodes_list)"
   ]
  },
  {
   "cell_type": "code",
   "execution_count": 4,
   "metadata": {},
   "outputs": [
    {
     "name": "stdout",
     "output_type": "stream",
     "text": [
      "                        1: Avatar\n",
      "                    2: Avengers: Endgame\n",
      "                        3: Titanic\n",
      "                4: Star Wars: Episode VII - The Force Awakens\n",
      "                    5: Avengers: Infinity War\n",
      "                        6: Spider-Man: No Way Home\n",
      "                            7: Jurassic World\n",
      "            8: The Lion King\n",
      "        9: Marvel's The Avengers\n",
      "            10: Furious 7\n",
      "                11: Frozen II\n",
      "    12: Avengers: Age of Ultron\n",
      "            13: Black Panther\n",
      "                14: Harry Potter and the Deathly Hallows\n",
      "                    15: Star Wars: Episode VIII - The Last Jedi\n",
      "        16: Jurassic World: Fallen Kingdom\n",
      "17: Frozen\n",
      "        18: Beauty and the Beast\n",
      "    19: Incredibles 2\n",
      "        20: The Fate of the Furious\n",
      "                21: Iron Man 3\n",
      "                    22: Minions\n",
      "                        23: Captain America\n",
      "                            24: Aquaman\n",
      "            25: The Lord of the Rings: The Return of the King\n"
     ]
    }
   ],
   "source": [
    "movie_tree = BinarySearchTree()\n",
    "\n",
    "for node in nodes_list:\n",
    "    movie_tree.bst_insert(node)\n",
    "\n",
    "movie_tree.visualize()"
   ]
  },
  {
   "cell_type": "code",
   "execution_count": 5,
   "metadata": {},
   "outputs": [
    {
     "name": "stdout",
     "output_type": "stream",
     "text": [
      "Object with key: 23 and data: Captain America\n"
     ]
    }
   ],
   "source": [
    "my_node = movie_tree.bst_search_iter(23)\n",
    "\n",
    "print(my_node)\n",
    "movie_tree.bst_delete(my_node)"
   ]
  },
  {
   "cell_type": "code",
   "execution_count": 6,
   "metadata": {},
   "outputs": [
    {
     "name": "stdout",
     "output_type": "stream",
     "text": [
      "Object with key: 1 and data: Avatar\n",
      "Object with key: 2 and data: Avengers: Endgame\n",
      "Object with key: 3 and data: Titanic\n",
      "Object with key: 4 and data: Star Wars: Episode VII - The Force Awakens\n",
      "Object with key: 5 and data: Avengers: Infinity War\n",
      "Object with key: 6 and data: Spider-Man: No Way Home\n",
      "Object with key: 7 and data: Jurassic World\n",
      "Object with key: 8 and data: The Lion King\n",
      "Object with key: 9 and data: Marvel's The Avengers\n",
      "Object with key: 10 and data: Furious 7\n",
      "Object with key: 11 and data: Frozen II\n",
      "Object with key: 12 and data: Avengers: Age of Ultron\n",
      "Object with key: 13 and data: Black Panther\n",
      "Object with key: 14 and data: Harry Potter and the Deathly Hallows\n",
      "Object with key: 15 and data: Star Wars: Episode VIII - The Last Jedi\n",
      "Object with key: 16 and data: Jurassic World: Fallen Kingdom\n",
      "Object with key: 17 and data: Frozen\n",
      "Object with key: 18 and data: Beauty and the Beast\n",
      "Object with key: 19 and data: Incredibles 2\n",
      "Object with key: 20 and data: The Fate of the Furious\n",
      "Object with key: 21 and data: Iron Man 3\n",
      "Object with key: 22 and data: Minions\n",
      "Object with key: 24 and data: Aquaman\n",
      "Object with key: 25 and data: The Lord of the Rings: The Return of the King\n"
     ]
    }
   ],
   "source": [
    "movie_tree.in_order_traversal(movie_tree.root)"
   ]
  },
  {
   "cell_type": "code",
   "execution_count": 7,
   "metadata": {},
   "outputs": [
    {
     "name": "stdout",
     "output_type": "stream",
     "text": [
      "                        1: Avatar\n",
      "                    2: Avengers: Endgame\n",
      "                        3: Titanic\n",
      "                4: Star Wars: Episode VII - The Force Awakens\n",
      "                    5: Avengers: Infinity War\n",
      "                        6: Spider-Man: No Way Home\n",
      "                            7: Jurassic World\n",
      "            8: The Lion King\n",
      "        9: Marvel's The Avengers\n",
      "            10: Furious 7\n",
      "                11: Frozen II\n",
      "    12: Avengers: Age of Ultron\n",
      "            13: Black Panther\n",
      "                14: Harry Potter and the Deathly Hallows\n",
      "                    15: Star Wars: Episode VIII - The Last Jedi\n",
      "        16: Jurassic World: Fallen Kingdom\n",
      "17: Frozen\n",
      "        18: Beauty and the Beast\n",
      "    19: Incredibles 2\n",
      "        20: The Fate of the Furious\n",
      "                21: Iron Man 3\n",
      "                    22: Minions\n",
      "                        24: Aquaman\n",
      "            25: The Lord of the Rings: The Return of the King\n"
     ]
    }
   ],
   "source": [
    "movie_tree.visualize()"
   ]
  },
  {
   "cell_type": "code",
   "execution_count": 8,
   "metadata": {},
   "outputs": [
    {
     "name": "stdout",
     "output_type": "stream",
     "text": [
      "                        1: Avatar\n",
      "                    2: Avengers: Endgame\n",
      "                        3: Titanic\n",
      "                4: Star Wars: Episode VII - The Force Awakens\n",
      "                    5: Avengers: Infinity War\n",
      "                        6: Spider-Man: No Way Home\n",
      "                            7: Jurassic World\n",
      "            8: The Lion King\n",
      "        9: Marvel's The Avengers\n",
      "            10: Furious 7\n",
      "                11: Frozen II\n",
      "    12: Avengers: Age of Ultron\n",
      "            13: Black Panther\n",
      "                14: Harry Potter and the Deathly Hallows\n",
      "                    15: Star Wars: Episode VIII - The Last Jedi\n",
      "        16: Jurassic World: Fallen Kingdom\n",
      "17: Frozen\n",
      "        18: Beauty and the Beast\n",
      "    19: Incredibles 2\n",
      "        20: The Fate of the Furious\n",
      "                21: Iron Man 3\n",
      "                    22: Minions\n",
      "                            23: Skyfall\n",
      "                        24: Aquaman\n",
      "            25: The Lord of the Rings: The Return of the King\n"
     ]
    }
   ],
   "source": [
    "new_23 = Node(23, 'Skyfall')\n",
    "\n",
    "movie_tree.bst_insert(new_23)\n",
    "\n",
    "movie_tree.visualize()"
   ]
  },
  {
   "cell_type": "code",
   "execution_count": 9,
   "metadata": {},
   "outputs": [
    {
     "name": "stdout",
     "output_type": "stream",
     "text": [
      "Object with key: 25 and data: The Lord of the Rings: The Return of the King\n",
      "Object with key: 1 and data: Avatar\n"
     ]
    }
   ],
   "source": [
    "last = movie_tree.bst_maximum()\n",
    "print(last)\n",
    "first = movie_tree.bst_minimum()\n",
    "print(first)"
   ]
  }
 ],
 "metadata": {
  "interpreter": {
   "hash": "aee8b7b246df8f9039afb4144a1f6fd8d2ca17a180786b69acc140d282b71a49"
  },
  "kernelspec": {
   "display_name": "Python 3.10.2 64-bit",
   "language": "python",
   "name": "python3"
  },
  "language_info": {
   "codemirror_mode": {
    "name": "ipython",
    "version": 3
   },
   "file_extension": ".py",
   "mimetype": "text/x-python",
   "name": "python",
   "nbconvert_exporter": "python",
   "pygments_lexer": "ipython3",
   "version": "3.10.2"
  },
  "orig_nbformat": 4
 },
 "nbformat": 4,
 "nbformat_minor": 2
}
