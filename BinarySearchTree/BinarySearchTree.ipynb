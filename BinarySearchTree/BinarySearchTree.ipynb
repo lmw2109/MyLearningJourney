{
 "cells": [
  {
   "cell_type": "markdown",
   "metadata": {},
   "source": [
    "# Binary Search Tree"
   ]
  },
  {
   "cell_type": "markdown",
   "metadata": {},
   "source": [
    "**Sources**\n",
    "- [Wikipedia](https://en.wikipedia.org/wiki/Binary_search_tree#Optimal_binary_search_trees)\n",
    "\n",
    "- [GeeksforGeeks](https://www.geeksforgeeks.org/binary-search-tree-data-structure/?ref=lbp)\n",
    "\n",
    "- [Visualization](https://www.cs.usfca.edu/~galles/visualization/BST.html)"
   ]
  }
 ],
 "metadata": {
  "language_info": {
   "name": "python"
  },
  "orig_nbformat": 4
 },
 "nbformat": 4,
 "nbformat_minor": 2
}
