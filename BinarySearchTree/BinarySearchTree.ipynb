{
 "cells": [
  {
   "cell_type": "markdown",
   "metadata": {},
   "source": [
    "# Binary Search Tree"
   ]
  },
  {
   "cell_type": "markdown",
   "metadata": {},
   "source": [
    "**Sources**\n",
    "- [Wikipedia](https://en.wikipedia.org/wiki/Binary_search_tree#Optimal_binary_search_trees)\n",
    "\n",
    "- [GeeksforGeeks](https://www.geeksforgeeks.org/binary-search-tree-data-structure/?ref=lbp)\n",
    "\n",
    "- [Visualization](https://www.cs.usfca.edu/~galles/visualization/BST.html)"
   ]
  },
  {
   "cell_type": "code",
   "execution_count": 1,
   "metadata": {},
   "outputs": [],
   "source": [
    "from bst import *"
   ]
  },
  {
   "cell_type": "code",
   "execution_count": 2,
   "metadata": {},
   "outputs": [],
   "source": [
    "tree = BinarySearchTree()\n",
    "\n",
    "node_1 = Node(100, data = 'some data')\n",
    "node_2 = Node(200, data = 'some icecream')\n",
    "node_3 = Node(150)\n",
    "node_4 = Node(400, data = 'some pepper')\n",
    "node_5 = Node(50, data = 'some salt')\n",
    "\n",
    "nodes_list = [node_1, node_2, node_3, node_4, node_5]"
   ]
  },
  {
   "cell_type": "code",
   "execution_count": 3,
   "metadata": {},
   "outputs": [],
   "source": [
    "for node in nodes_list:\n",
    "    tree.bst_insert(node)"
   ]
  },
  {
   "cell_type": "code",
   "execution_count": 4,
   "metadata": {},
   "outputs": [
    {
     "name": "stdout",
     "output_type": "stream",
     "text": [
      "Object with key: 50 and data: some salt\n",
      "Object with key: 100 and data: some data\n",
      "Object with key: 150 and data: None\n",
      "Object with key: 200 and data: some icecream\n",
      "Object with key: 400 and data: some pepper\n"
     ]
    }
   ],
   "source": [
    "tree.in_order_traversal(tree.root)"
   ]
  },
  {
   "cell_type": "code",
   "execution_count": 8,
   "metadata": {},
   "outputs": [],
   "source": [
    "my_node = tree.bst_search_iter(100)\n",
    "\n",
    "tree.bst_delete(my_node)"
   ]
  },
  {
   "cell_type": "code",
   "execution_count": 9,
   "metadata": {},
   "outputs": [
    {
     "name": "stdout",
     "output_type": "stream",
     "text": [
      "Object with key: 50 and data: some salt\n",
      "Object with key: 150 and data: None\n",
      "Object with key: 200 and data: some icecream\n",
      "Object with key: 400 and data: some pepper\n"
     ]
    }
   ],
   "source": [
    "tree.in_order_traversal(tree.root)"
   ]
  },
  {
   "cell_type": "code",
   "execution_count": 10,
   "metadata": {},
   "outputs": [
    {
     "name": "stdout",
     "output_type": "stream",
     "text": [
      "50: some salt\n",
      "        150: None\n",
      "    200: some icecream\n",
      "        400: some pepper\n"
     ]
    }
   ],
   "source": [
    "tree.visualize()"
   ]
  }
 ],
 "metadata": {
  "interpreter": {
   "hash": "aee8b7b246df8f9039afb4144a1f6fd8d2ca17a180786b69acc140d282b71a49"
  },
  "kernelspec": {
   "display_name": "Python 3.10.2 64-bit",
   "language": "python",
   "name": "python3"
  },
  "language_info": {
   "codemirror_mode": {
    "name": "ipython",
    "version": 3
   },
   "file_extension": ".py",
   "mimetype": "text/x-python",
   "name": "python",
   "nbconvert_exporter": "python",
   "pygments_lexer": "ipython3",
   "version": "3.10.2"
  },
  "orig_nbformat": 4
 },
 "nbformat": 4,
 "nbformat_minor": 2
}
