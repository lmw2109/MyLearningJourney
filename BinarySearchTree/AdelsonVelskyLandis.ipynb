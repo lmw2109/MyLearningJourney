{
 "cells": [
  {
   "cell_type": "markdown",
   "metadata": {},
   "source": [
    "# Adelson-Velsky & Landis Tree"
   ]
  },
  {
   "cell_type": "markdown",
   "metadata": {},
   "source": [
    "### Overview\n",
    "\n",
    "This notebook showcases my implementation of an AVL-tree!\n",
    "\n",
    "Below you will find a demonstration for each rotation that is necessary to keep the tree balanced when inserting or deleting nodes.\n",
    "\n",
    "For a closer look at my code look at 'avl_tree.py'\n",
    "\n",
    "I also have a general BST implementation: see 'bst.py'\n",
    "\n",
    "---\n",
    "\n",
    "#### Definition of an AVL-Tree\n",
    "\n",
    "- An AVL tree is a self-balancing Binary Search Tree!\n",
    "\n",
    "- The height of the two child subtrees of any node differ by at most one.\n",
    "\n",
    "- Each node carries a balance factor that indicates the height difference between both child-subtrees.\n",
    "\n",
    "---\n",
    "\n",
    "#### Rotation methods\n",
    "\n",
    "In order to keep the tree balanced 4 rotation operations are necessary!\n",
    "\n",
    "**Simple Rotations:**\n",
    "\n",
    "    1. rotate left\n",
    "    2. rotate right\n",
    "\n",
    "**Double Rotations:**\n",
    "\n",
    "    3. rotate left-right\n",
    "    4. rotate right-left\n",
    "\n",
    "These rotations occur when nodes are inserted or deleted!\n",
    "\n",
    "Insertion leads to 4 distinct cases (see 1.1 - 1.4)\n",
    "\n",
    "Deletion leads to 2 additional distinct cases (see 2.1 - 2.2)\n",
    "\n",
    "*Please note that the visualization happens in a \"top to bottom - left to right\" order*\n",
    "\n",
    "---\n",
    "\n",
    "**Sources**\n",
    "\n",
    "- \"The Art of Computer Programming, Volume 3, Sorting and Searching\" - Donald E. Knuth, Chapter 6.2.3"
   ]
  },
  {
   "cell_type": "code",
   "execution_count": 1,
   "metadata": {},
   "outputs": [],
   "source": [
    "# Import my implementation\n",
    "from avl_tree import *"
   ]
  },
  {
   "cell_type": "code",
   "execution_count": 2,
   "metadata": {},
   "outputs": [
    {
     "data": {
      "text/plain": [
       "Object with key: 100 and BF: 0"
      ]
     },
     "execution_count": 2,
     "metadata": {},
     "output_type": "execute_result"
    }
   ],
   "source": [
    "# How to initialize a tree\n",
    "test = AdelsonVelskyLandis()\n",
    "# How to insert a Node\n",
    "test.avl_insert(Node(100))\n",
    "# How to search for a Node\n",
    "test.search_iter(100)"
   ]
  },
  {
   "cell_type": "markdown",
   "metadata": {},
   "source": [
    "## 1 - Insertion"
   ]
  },
  {
   "cell_type": "markdown",
   "metadata": {},
   "source": [
    "### 1.1 - Rotation left\n",
    "Balance factors: [1, 2]\n",
    "\n",
    "\"Right-right situation\"\n",
    "\n",
    "- Right-heavy breakpoint with balance factor $2$\n",
    "- Right child-subtree of breakpoint also leans to the right with balance factor $1$\n",
    "\n",
    "**Decision:** rotate left"
   ]
  },
  {
   "cell_type": "code",
   "execution_count": 3,
   "metadata": {},
   "outputs": [
    {
     "name": "stdout",
     "output_type": "stream",
     "text": [
      "    10: 0\n",
      "20: 1\n",
      "        25: 0\n",
      "    30: 0\n",
      "        40: 0\n"
     ]
    }
   ],
   "source": [
    "avl_one = AdelsonVelskyLandis()\n",
    "\n",
    "avl_one.avl_insert(Node(20))\n",
    "avl_one.avl_insert(Node(10))\n",
    "avl_one.avl_insert(Node(30))\n",
    "avl_one.avl_insert(Node(25))\n",
    "avl_one.avl_insert(Node(40))\n",
    "\n",
    "avl_one.visualize()"
   ]
  },
  {
   "cell_type": "code",
   "execution_count": 4,
   "metadata": {},
   "outputs": [
    {
     "name": "stdout",
     "output_type": "stream",
     "text": [
      "        10: 0\n",
      "    20: 0\n",
      "        25: 0\n",
      "30: 0\n",
      "    40: 1\n",
      "        50: 0\n"
     ]
    }
   ],
   "source": [
    "avl_one.avl_insert(Node(50))\n",
    "\n",
    "avl_one.visualize()"
   ]
  },
  {
   "cell_type": "markdown",
   "metadata": {},
   "source": [
    "### 1.2 - Rotation right\n",
    "Balance factors: [-1, -2]\n",
    "\n",
    "\"Left-left situation\"\n",
    "\n",
    "- left-heavy breakpoint with balance factor $2$\n",
    "- left child-subtree of breakpoint also leans to the left with balance factor $1$\n",
    "\n",
    "**Decision:** rotate right"
   ]
  },
  {
   "cell_type": "code",
   "execution_count": 5,
   "metadata": {},
   "outputs": [
    {
     "name": "stdout",
     "output_type": "stream",
     "text": [
      "        5: 0\n",
      "    10: 0\n",
      "        15: 0\n",
      "20: -1\n",
      "    30: 0\n"
     ]
    }
   ],
   "source": [
    "avl_two = AdelsonVelskyLandis()\n",
    "\n",
    "avl_two.avl_insert(Node(20))\n",
    "avl_two.avl_insert(Node(10))\n",
    "avl_two.avl_insert(Node(30))\n",
    "avl_two.avl_insert(Node(5))\n",
    "avl_two.avl_insert(Node(15))\n",
    "\n",
    "avl_two.visualize()"
   ]
  },
  {
   "cell_type": "code",
   "execution_count": 6,
   "metadata": {},
   "outputs": [
    {
     "name": "stdout",
     "output_type": "stream",
     "text": [
      "        1: 0\n",
      "    5: -1\n",
      "10: 0\n",
      "        15: 0\n",
      "    20: 0\n",
      "        30: 0\n"
     ]
    }
   ],
   "source": [
    "avl_two.avl_insert(Node(1))\n",
    "\n",
    "avl_two.visualize()"
   ]
  },
  {
   "cell_type": "markdown",
   "metadata": {},
   "source": [
    "### 1.3 - Rotation right-left\n",
    "Balance factors: [-1, 2]\n",
    "\n",
    "\"Right-left situation\"\n",
    "\n",
    "- Right-heavy breakpoint with balance factor $2$\n",
    "- Right child-subtree of breakpoint that leans to the left with balance factor $-1$\n",
    "\n",
    "**Decision:** rotate child-subtree right, then rotate breakpoint-tree left"
   ]
  },
  {
   "cell_type": "code",
   "execution_count": 7,
   "metadata": {},
   "outputs": [
    {
     "name": "stdout",
     "output_type": "stream",
     "text": [
      "    5: 0\n",
      "10: 1\n",
      "        15: 0\n",
      "    20: 0\n",
      "        25: 0\n"
     ]
    }
   ],
   "source": [
    "avl_three = AdelsonVelskyLandis()\n",
    "\n",
    "avl_three.avl_insert(Node(10))\n",
    "avl_three.avl_insert(Node(5))\n",
    "avl_three.avl_insert(Node(20))\n",
    "avl_three.avl_insert(Node(15))\n",
    "avl_three.avl_insert(Node(25))\n",
    "\n",
    "avl_three.visualize()"
   ]
  },
  {
   "cell_type": "code",
   "execution_count": 8,
   "metadata": {},
   "outputs": [
    {
     "name": "stdout",
     "output_type": "stream",
     "text": [
      "        5: 0\n",
      "    10: 0\n",
      "        12: 0\n",
      "15: 0\n",
      "    20: 1\n",
      "        25: 0\n"
     ]
    }
   ],
   "source": [
    "avl_three.avl_insert(Node(12))\n",
    "\n",
    "avl_three.visualize()"
   ]
  },
  {
   "cell_type": "markdown",
   "metadata": {},
   "source": [
    "### 1.4 - Rotation left-right\n",
    "Balance factors: [1, -2]\n",
    "\n",
    "\"Left-right situation\"\n",
    "\n",
    "- Left-heavy breakpoint with balance factor $-2$\n",
    "- Left child-subtree of breakpoint that leans to the right with balance factor $1$\n",
    "\n",
    "**Decision:** rotate child-subtree left, then rotate breakpoint-tree right"
   ]
  },
  {
   "cell_type": "code",
   "execution_count": 9,
   "metadata": {},
   "outputs": [
    {
     "name": "stdout",
     "output_type": "stream",
     "text": [
      "        10: 0\n",
      "    25: 0\n",
      "        30: 0\n",
      "50: -1\n",
      "    75: 0\n"
     ]
    }
   ],
   "source": [
    "avl_four = AdelsonVelskyLandis()\n",
    "\n",
    "avl_four.avl_insert(Node(50))\n",
    "avl_four.avl_insert(Node(75))\n",
    "avl_four.avl_insert(Node(25))\n",
    "avl_four.avl_insert(Node(10))\n",
    "avl_four.avl_insert(Node(30))\n",
    "\n",
    "avl_four.visualize()"
   ]
  },
  {
   "cell_type": "code",
   "execution_count": 10,
   "metadata": {},
   "outputs": [
    {
     "name": "stdout",
     "output_type": "stream",
     "text": [
      "        10: 0\n",
      "    25: -1\n",
      "30: 0\n",
      "        40: 0\n",
      "    50: 0\n",
      "        75: 0\n"
     ]
    }
   ],
   "source": [
    "avl_four.avl_insert(Node(40))\n",
    "\n",
    "avl_four.visualize()"
   ]
  },
  {
   "cell_type": "markdown",
   "metadata": {},
   "source": [
    "## 2 - Deletion"
   ]
  },
  {
   "cell_type": "markdown",
   "metadata": {},
   "source": [
    "### 2.1 - Rotation left in deletion case [0, 2]\n",
    "\n",
    "Case 1: Balance factors: [1, 2] *(similar to insertion case above)*\n",
    "\n",
    "Case 2: Balance factors: [0, 2]\n",
    "\n",
    "\"Right-right situation\"\n",
    "\n",
    "- Right-heavy breakpoint with balance factor $2$\n",
    "- Right child-subtree of breakpoint is perfectly balanced with balance factor $0$\n",
    "- The height of balanced child-subtree is $ h > 1 $\n",
    "\n",
    "**Decision:** rotate left"
   ]
  },
  {
   "cell_type": "code",
   "execution_count": 11,
   "metadata": {},
   "outputs": [
    {
     "name": "stdout",
     "output_type": "stream",
     "text": [
      "    5: 0\n",
      "10: 1\n",
      "        15: 0\n",
      "    20: 0\n",
      "        25: 0\n"
     ]
    }
   ],
   "source": [
    "avl_five = AdelsonVelskyLandis()\n",
    "\n",
    "avl_five.avl_insert(Node(10))\n",
    "avl_five.avl_insert(Node(5))\n",
    "avl_five.avl_insert(Node(20))\n",
    "avl_five.avl_insert(Node(15))\n",
    "avl_five.avl_insert(Node(25))\n",
    "\n",
    "avl_five.visualize()"
   ]
  },
  {
   "cell_type": "code",
   "execution_count": 12,
   "metadata": {},
   "outputs": [
    {
     "name": "stdout",
     "output_type": "stream",
     "text": [
      "    10: 1\n",
      "        15: 0\n",
      "20: -1\n",
      "    25: 0\n"
     ]
    }
   ],
   "source": [
    "# Let's delete the node with key 5 to create a [0, 2] scenario\n",
    "my_five = avl_five.search_iter(5)\n",
    "\n",
    "avl_five.avl_delete(my_five)\n",
    "\n",
    "avl_five.visualize()"
   ]
  },
  {
   "cell_type": "markdown",
   "metadata": {},
   "source": [
    "### 2.2 - Rotation right in deletion case [0, -2]\n",
    "\n",
    "Case 1: Balance factors: [-1, -2] *(similar to insertion case above)*\n",
    "\n",
    "Case 2: Balance factors: [0, -2]\n",
    "\n",
    "\"Left-left situation\"\n",
    "\n",
    "- Left-heavy breakpoint with balance factor $-2$\n",
    "- Left child-subtree of breakpoint is perfectly balanced with balance factor $0$\n",
    "- The height of balanced child-subtree is $ h > 1 $\n",
    "\n",
    "**Decision:** rotate right"
   ]
  },
  {
   "cell_type": "code",
   "execution_count": 13,
   "metadata": {},
   "outputs": [
    {
     "name": "stdout",
     "output_type": "stream",
     "text": [
      "        5: 0\n",
      "    10: 0\n",
      "        15: 0\n",
      "20: -1\n",
      "    25: 0\n"
     ]
    }
   ],
   "source": [
    "avl_six = AdelsonVelskyLandis()\n",
    "\n",
    "avl_six.avl_insert(Node(20))\n",
    "avl_six.avl_insert(Node(25))\n",
    "avl_six.avl_insert(Node(10))\n",
    "avl_six.avl_insert(Node(5))\n",
    "avl_six.avl_insert(Node(15))\n",
    "\n",
    "avl_six.visualize()"
   ]
  },
  {
   "cell_type": "code",
   "execution_count": 14,
   "metadata": {},
   "outputs": [
    {
     "name": "stdout",
     "output_type": "stream",
     "text": [
      "    5: 0\n",
      "10: 1\n",
      "        15: 0\n",
      "    20: -1\n"
     ]
    }
   ],
   "source": [
    "# Let's delete the node with key 25 to create a [0, -2] scenario\n",
    "my_twentyfive = avl_six.search_iter(25)\n",
    "\n",
    "avl_six.avl_delete(my_twentyfive)\n",
    "\n",
    "avl_six.visualize()"
   ]
  },
  {
   "cell_type": "markdown",
   "metadata": {},
   "source": [
    "## 3 - Height Interval"
   ]
  },
  {
   "cell_type": "markdown",
   "metadata": {},
   "source": [
    "Although AVL-Trees are height balanced, this does not mean that a certain height $h$ applies to a given amount of $n$ nodes!\n",
    "\n",
    "> The height of an AVL tree lies in the height interval:\n",
    "\n",
    "$\\log_2(n + 1) \\le h < 1.4405\\cdot\\log_2(n + 2) − 0.3277$\n",
    "\n",
    "> Remember: The height of any child-subtrees of a node differs by at most one. This does not mean that the height of all subtrees falls in the range of (-1, 1)\n",
    "\n",
    "Example from [Wikipedia](https://de.m.wikipedia.org/wiki/Fibonacci-Baum):\n",
    "\n",
    "![Fibonacci Tree](Fibonacci-Tree.png \"Fibonacci Tree\")\n"
   ]
  },
  {
   "cell_type": "code",
   "execution_count": 15,
   "metadata": {},
   "outputs": [
    {
     "name": "stdout",
     "output_type": "stream",
     "text": [
      "                1: 0\n",
      "            2: 0\n",
      "                3: 0\n",
      "        4: 1\n",
      "                    5: 0\n",
      "                6: 0\n",
      "                    7: 0\n",
      "            8: 0\n",
      "                    9: 0\n",
      "                10: 0\n",
      "                    11: 0\n",
      "    12: 1\n",
      "                    13: 0\n",
      "                14: 0\n",
      "                    15: 0\n",
      "            16: 1\n",
      "                    17: 0\n",
      "                18: 1\n",
      "                        19: 0\n",
      "                    20: -1\n",
      "        21: 0\n",
      "                    22: 1\n",
      "                        23: 0\n",
      "                24: -1\n",
      "                    25: 0\n",
      "            26: -1\n",
      "                27: 1\n",
      "                    28: 0\n",
      "29: -1\n",
      "                    30: 0\n",
      "                31: -1\n",
      "            32: 0\n",
      "                    33: 0\n",
      "                34: -1\n",
      "        35: 0\n",
      "                    36: 0\n",
      "                37: 0\n",
      "                    38: 0\n",
      "            39: 0\n",
      "                    40: 0\n",
      "                41: 0\n",
      "                    42: 0\n",
      "    43: 0\n",
      "                44: 0\n",
      "            45: -1\n",
      "        46: 1\n",
      "                47: 0\n",
      "            48: 1\n",
      "                49: 1\n",
      "                    50: 0\n"
     ]
    }
   ],
   "source": [
    "# Let's create a Tree with 50 nodes and see what it's height interval is\n",
    "from random import shuffle\n",
    "\n",
    "AVL = AdelsonVelskyLandis()\n",
    "\n",
    "node_keys = []\n",
    "for i in range(1, 51):\n",
    "    node_keys.append(i)\n",
    "\n",
    "# random list makes insertion more interesting\n",
    "shuffle(node_keys)\n",
    "\n",
    "for key in node_keys:\n",
    "    AVL.avl_insert(Node(key))\n",
    "\n",
    "AVL.visualize()"
   ]
  },
  {
   "cell_type": "code",
   "execution_count": 16,
   "metadata": {},
   "outputs": [
    {
     "name": "stdout",
     "output_type": "stream",
     "text": [
      "Root: Object with key: 29 and BF: -1\n",
      "Height is: 7\n",
      "Nodes: 50\n",
      "For an AVL-Tree of 50 nodes the height lies in between\n",
      "5.672425341971495 and 7.883783413982242\n"
     ]
    }
   ],
   "source": [
    "AVL.report()"
   ]
  }
 ],
 "metadata": {
  "kernelspec": {
   "display_name": "Python 3.10.2 64-bit",
   "language": "python",
   "name": "python3"
  },
  "language_info": {
   "codemirror_mode": {
    "name": "ipython",
    "version": 3
   },
   "file_extension": ".py",
   "mimetype": "text/x-python",
   "name": "python",
   "nbconvert_exporter": "python",
   "pygments_lexer": "ipython3",
   "version": "3.10.2"
  },
  "orig_nbformat": 4,
  "vscode": {
   "interpreter": {
    "hash": "aee8b7b246df8f9039afb4144a1f6fd8d2ca17a180786b69acc140d282b71a49"
   }
  }
 },
 "nbformat": 4,
 "nbformat_minor": 2
}
