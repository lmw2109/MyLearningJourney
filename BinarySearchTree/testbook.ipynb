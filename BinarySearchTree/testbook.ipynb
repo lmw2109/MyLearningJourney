{
 "cells": [
  {
   "cell_type": "code",
   "execution_count": 7,
   "metadata": {},
   "outputs": [],
   "source": [
    "from avl_tree import *"
   ]
  },
  {
   "cell_type": "code",
   "execution_count": 8,
   "metadata": {},
   "outputs": [],
   "source": [
    "# Data\n",
    "\n",
    "node_a = Node(100)\n",
    "node_b = Node(200)\n",
    "node_c = Node(300)\n",
    "node_d = Node(400)\n",
    "node_e = Node(500)\n",
    "node_f = Node(600)\n",
    "node_g = Node(700)"
   ]
  },
  {
   "cell_type": "code",
   "execution_count": 9,
   "metadata": {},
   "outputs": [
    {
     "name": "stdout",
     "output_type": "stream",
     "text": [
      "100: 1\n",
      "    200: 0\n",
      "Node has been inserted, no rotation was necessary!\n",
      "100: 2\n",
      "    200: 1\n",
      "        300: 0\n",
      "Node is inserted, left rotation has occured!\n",
      "    100: 0\n",
      "200: 1\n",
      "    300: 1\n",
      "        400: 0\n",
      "Node has been inserted, no rotation was necessary!\n",
      "    100: 0\n",
      "200: 1\n",
      "    300: 2\n",
      "        400: 1\n",
      "            500: 0\n",
      "Node is inserted, left rotation has occured!\n",
      "    100: 0\n",
      "200: 2\n",
      "        300: 0\n",
      "    400: 1\n",
      "        500: 1\n",
      "            600: 0\n",
      "Node is inserted, left rotation has occured!\n",
      "        100: 0\n",
      "    200: 0\n",
      "        300: 0\n",
      "400: 0\n",
      "    500: 1\n",
      "        600: 0\n"
     ]
    }
   ],
   "source": [
    "test1 = AdelsonVelskyLandis()\n",
    "\n",
    "test1.avl_insert(node_a)\n",
    "test1.avl_insert(node_b)\n",
    "test1.avl_insert(node_c)\n",
    "test1.avl_insert(node_d)\n",
    "test1.avl_insert(node_e)\n",
    "test1.avl_insert(node_f)\n",
    "\n",
    "test1.visualize()"
   ]
  },
  {
   "cell_type": "code",
   "execution_count": 11,
   "metadata": {},
   "outputs": [
    {
     "name": "stdout",
     "output_type": "stream",
     "text": [
      "        100: 0\n",
      "    200: 0\n",
      "        300: 0\n",
      "400: 0\n",
      "    500: 1\n",
      "        600: 0\n"
     ]
    }
   ],
   "source": [
    "test1.visualize()"
   ]
  }
 ],
 "metadata": {
  "kernelspec": {
   "display_name": "Python 3.10.2 64-bit",
   "language": "python",
   "name": "python3"
  },
  "language_info": {
   "codemirror_mode": {
    "name": "ipython",
    "version": 3
   },
   "file_extension": ".py",
   "mimetype": "text/x-python",
   "name": "python",
   "nbconvert_exporter": "python",
   "pygments_lexer": "ipython3",
   "version": "3.10.2"
  },
  "orig_nbformat": 4,
  "vscode": {
   "interpreter": {
    "hash": "aee8b7b246df8f9039afb4144a1f6fd8d2ca17a180786b69acc140d282b71a49"
   }
  }
 },
 "nbformat": 4,
 "nbformat_minor": 2
}
